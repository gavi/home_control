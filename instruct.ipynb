{
 "cells": [
  {
   "cell_type": "code",
   "execution_count": 77,
   "metadata": {},
   "outputs": [],
   "source": [
    "import guidance\n",
    "from guidance import select, models, gen\n",
    "\n",
    "model = models.LlamaCpp('/Users/gavi/.cache/lm-studio/models/TheBloke/Mixtral-8x7B-Instruct-v0.1-GGUF/mixtral-8x7b-instruct-v0.1.Q5_K_M.gguf')\n"
   ]
  },
  {
   "cell_type": "code",
   "execution_count": 79,
   "metadata": {},
   "outputs": [],
   "source": [
    "def get_command(model, input):\n",
    "    devices={\n",
    "        \"devices\": {\n",
    "            \"none\":{\n",
    "                \"actions\":\"none\"\n",
    "            },\n",
    "            \"lights\": {\n",
    "                \"actions\": {\n",
    "                    \"turn_on\": {},\n",
    "                    \"turn_off\": {},\n",
    "                    \"dim\": {\n",
    "                        \"range\": {\n",
    "                            \"min\": 0,\n",
    "                            \"max\": 100,\n",
    "                            \"unit\": \"%\"\n",
    "                        }\n",
    "                    },\n",
    "                    \"change_color\": {\n",
    "                        \"colors\": [\"red\", \"green\", \"blue\", \"white\", \"yellow\", \"purple\"]\n",
    "                    }\n",
    "                }\n",
    "            },\n",
    "            \"thermostat\": {\n",
    "                \"actions\": {\n",
    "                    \"set_temperature\": {\n",
    "                        \"range\": {\n",
    "                            \"min\": 60,\n",
    "                            \"max\": 80,\n",
    "                            \"unit\": \"F\"\n",
    "                        }\n",
    "                    },\n",
    "                    \"turn_off\": {}\n",
    "                }\n",
    "            },\n",
    "            \"television\": {\n",
    "                \"actions\": {\n",
    "                    \"turn_on\": {},\n",
    "                    \"turn_off\": {},\n",
    "                    \"change_channel\": {\n",
    "                        \"range\": {\n",
    "                            \"min\": 1,\n",
    "                            \"max\": 500\n",
    "                        }\n",
    "                    },\n",
    "                    \"adjust_volume\": {\n",
    "                        \"range\": {\n",
    "                            \"min\": 0,\n",
    "                            \"max\": 100,\n",
    "                            \"unit\": \"%\"\n",
    "                        }\n",
    "                    },\n",
    "                    \"mute\": {}\n",
    "                }\n",
    "            },\n",
    "            \"smart_speaker\": {\n",
    "                \"actions\": {\n",
    "                    \"play_music\": {},\n",
    "                    \"set_volume\": {\n",
    "                        \"range\": {\n",
    "                            \"min\": 0,\n",
    "                            \"max\": 100,\n",
    "                            \"unit\": \"%\"\n",
    "                        }\n",
    "                    },\n",
    "                    \"set_alarm\": {\n",
    "                        \"time_format\": \"HH:MM\"\n",
    "                    }\n",
    "                }\n",
    "            }\n",
    "        }\n",
    "    }\n",
    "\n",
    "    model +=  f'''You are a home assistant. You can choose one of these devices, actions and values - {devices}. You can answer with device none if the question is not pertainant. The input from the user is -{input}. device:\"{gen('device',stop='\"',max_tokens=50)}\",action:\"{gen('action',stop='\"',max_tokens=50)}\",value:\"{gen('value',stop='\"',max_tokens=50)}\"'''\n",
    "    return (model.get('device'),model.get('action'),model.get('value'))"
   ]
  },
  {
   "cell_type": "code",
   "execution_count": 80,
   "metadata": {},
   "outputs": [
    {
     "data": {
      "text/html": [
       "<pre style='margin: 0px; padding: 0px; vertical-align: middle; padding-left: 8px; margin-left: -8px; border-radius: 0px; border-left: 1px solid rgba(127, 127, 127, 0.2); white-space: pre-wrap; font-family: ColfaxAI, Arial; font-size: 15px; line-height: 23px;'>You are a home assistant. You can choose one of these devices, actions and values - {&#x27;devices&#x27;: {&#x27;none&#x27;: {&#x27;actions&#x27;: &#x27;none&#x27;}, &#x27;lights&#x27;: {&#x27;actions&#x27;: {&#x27;turn_on&#x27;: {}, &#x27;turn_off&#x27;: {}, &#x27;dim&#x27;: {&#x27;range&#x27;: {&#x27;min&#x27;: 0, &#x27;max&#x27;: 100, &#x27;unit&#x27;: &#x27;%&#x27;}}, &#x27;change_color&#x27;: {&#x27;colors&#x27;: [&#x27;red&#x27;, &#x27;green&#x27;, &#x27;blue&#x27;, &#x27;white&#x27;, &#x27;yellow&#x27;, &#x27;purple&#x27;]}}}, &#x27;thermostat&#x27;: {&#x27;actions&#x27;: {&#x27;set_temperature&#x27;: {&#x27;range&#x27;: {&#x27;min&#x27;: 60, &#x27;max&#x27;: 80, &#x27;unit&#x27;: &#x27;F&#x27;}}, &#x27;turn_off&#x27;: {}}}, &#x27;television&#x27;: {&#x27;actions&#x27;: {&#x27;turn_on&#x27;: {}, &#x27;turn_off&#x27;: {}, &#x27;change_channel&#x27;: {&#x27;range&#x27;: {&#x27;min&#x27;: 1, &#x27;max&#x27;: 500}}, &#x27;adjust_volume&#x27;: {&#x27;range&#x27;: {&#x27;min&#x27;: 0, &#x27;max&#x27;: 100, &#x27;unit&#x27;: &#x27;%&#x27;}}, &#x27;mute&#x27;: {}}}, &#x27;smart_speaker&#x27;: {&#x27;actions&#x27;: {&#x27;play_music&#x27;: {}, &#x27;set_volume&#x27;: {&#x27;range&#x27;: {&#x27;min&#x27;: 0, &#x27;max&#x27;: 100, &#x27;unit&#x27;: &#x27;%&#x27;}}, &#x27;set_alarm&#x27;: {&#x27;time_format&#x27;: &#x27;HH:MM&#x27;}}}}}. You can answer with device none if the question is not pertainant. The input from the user is -reduce volume. device<span style='background-color: rgba(0.0, 165.0, 0, 0.15); border-radius: 3px;' title='1.0'>:&quot;</span><span style='background-color: rgba(0.0, 165.0, 0, 0.15); border-radius: 3px;' title='1.0'>te</span><span style='background-color: rgba(0.0, 165.0, 0, 0.15); border-radius: 3px;' title='1.0'>lev</span><span style='background-color: rgba(0.0, 165.0, 0, 0.15); border-radius: 3px;' title='1.0'>ision</span>&quot;,action<span style='background-color: rgba(0.0, 165.0, 0, 0.15); border-radius: 3px;' title='1.0'>:&quot;</span><span style='background-color: rgba(0.0, 165.0, 0, 0.15); border-radius: 3px;' title='1.0'>adjust</span><span style='background-color: rgba(0.0, 165.0, 0, 0.15); border-radius: 3px;' title='1.0'>_</span><span style='background-color: rgba(0.0, 165.0, 0, 0.15); border-radius: 3px;' title='1.0'>volume</span>&quot;,value<span style='background-color: rgba(0.0, 165.0, 0, 0.15); border-radius: 3px;' title='1.0'>:&quot;</span><span style='background-color: rgba(0.0, 165.0, 0, 0.15); border-radius: 3px;' title='1.0'>reduce</span>&quot;</pre>"
      ],
      "text/plain": [
       "<IPython.core.display.HTML object>"
      ]
     },
     "metadata": {},
     "output_type": "display_data"
    },
    {
     "data": {
      "text/plain": [
       "('television', 'adjust_volume', 'reduce')"
      ]
     },
     "execution_count": 80,
     "metadata": {},
     "output_type": "execute_result"
    }
   ],
   "source": [
    "\n",
    "get_command(model,\"reduce volume\")\n"
   ]
  },
  {
   "cell_type": "code",
   "execution_count": 81,
   "metadata": {},
   "outputs": [
    {
     "data": {
      "text/html": [
       "<pre style='margin: 0px; padding: 0px; vertical-align: middle; padding-left: 8px; margin-left: -8px; border-radius: 0px; border-left: 1px solid rgba(127, 127, 127, 0.2); white-space: pre-wrap; font-family: ColfaxAI, Arial; font-size: 15px; line-height: 23px;'>You are a home assistant. You can choose one of these devices, actions and values - {&#x27;devices&#x27;: {&#x27;none&#x27;: {&#x27;actions&#x27;: &#x27;none&#x27;}, &#x27;lights&#x27;: {&#x27;actions&#x27;: {&#x27;turn_on&#x27;: {}, &#x27;turn_off&#x27;: {}, &#x27;dim&#x27;: {&#x27;range&#x27;: {&#x27;min&#x27;: 0, &#x27;max&#x27;: 100, &#x27;unit&#x27;: &#x27;%&#x27;}}, &#x27;change_color&#x27;: {&#x27;colors&#x27;: [&#x27;red&#x27;, &#x27;green&#x27;, &#x27;blue&#x27;, &#x27;white&#x27;, &#x27;yellow&#x27;, &#x27;purple&#x27;]}}}, &#x27;thermostat&#x27;: {&#x27;actions&#x27;: {&#x27;set_temperature&#x27;: {&#x27;range&#x27;: {&#x27;min&#x27;: 60, &#x27;max&#x27;: 80, &#x27;unit&#x27;: &#x27;F&#x27;}}, &#x27;turn_off&#x27;: {}}}, &#x27;television&#x27;: {&#x27;actions&#x27;: {&#x27;turn_on&#x27;: {}, &#x27;turn_off&#x27;: {}, &#x27;change_channel&#x27;: {&#x27;range&#x27;: {&#x27;min&#x27;: 1, &#x27;max&#x27;: 500}}, &#x27;adjust_volume&#x27;: {&#x27;range&#x27;: {&#x27;min&#x27;: 0, &#x27;max&#x27;: 100, &#x27;unit&#x27;: &#x27;%&#x27;}}, &#x27;mute&#x27;: {}}}, &#x27;smart_speaker&#x27;: {&#x27;actions&#x27;: {&#x27;play_music&#x27;: {}, &#x27;set_volume&#x27;: {&#x27;range&#x27;: {&#x27;min&#x27;: 0, &#x27;max&#x27;: 100, &#x27;unit&#x27;: &#x27;%&#x27;}}, &#x27;set_alarm&#x27;: {&#x27;time_format&#x27;: &#x27;HH:MM&#x27;}}}}}. You can answer with device none if the question is not pertainant. The input from the user is -apple has fallen, lets turn to channel 10. device<span style='background-color: rgba(0.0, 165.0, 0, 0.15); border-radius: 3px;' title='1.0'>:&quot;</span><span style='background-color: rgba(0.0, 165.0, 0, 0.15); border-radius: 3px;' title='1.0'>te</span><span style='background-color: rgba(0.0, 165.0, 0, 0.15); border-radius: 3px;' title='1.0'>lev</span><span style='background-color: rgba(0.0, 165.0, 0, 0.15); border-radius: 3px;' title='1.0'>ision</span>&quot;,action<span style='background-color: rgba(0.0, 165.0, 0, 0.15); border-radius: 3px;' title='1.0'>:&quot;</span><span style='background-color: rgba(0.0, 165.0, 0, 0.15); border-radius: 3px;' title='1.0'>change</span><span style='background-color: rgba(0.0, 165.0, 0, 0.15); border-radius: 3px;' title='1.0'>_</span><span style='background-color: rgba(0.0, 165.0, 0, 0.15); border-radius: 3px;' title='1.0'>channel</span>&quot;,value<span style='background-color: rgba(0.0, 165.0, 0, 0.15); border-radius: 3px;' title='1.0'>:&quot;</span><span style='background-color: rgba(0.0, 165.0, 0, 0.15); border-radius: 3px;' title='1.0'>1</span><span style='background-color: rgba(0.0, 165.0, 0, 0.15); border-radius: 3px;' title='1.0'>0</span>&quot;</pre>"
      ],
      "text/plain": [
       "<IPython.core.display.HTML object>"
      ]
     },
     "metadata": {},
     "output_type": "display_data"
    },
    {
     "data": {
      "text/plain": [
       "('television', 'change_channel', '10')"
      ]
     },
     "execution_count": 81,
     "metadata": {},
     "output_type": "execute_result"
    }
   ],
   "source": [
    "get_command(model,\"apple has fallen, lets turn to channel 10\")\n"
   ]
  },
  {
   "cell_type": "code",
   "execution_count": 83,
   "metadata": {},
   "outputs": [
    {
     "data": {
      "text/html": [
       "<pre style='margin: 0px; padding: 0px; vertical-align: middle; padding-left: 8px; margin-left: -8px; border-radius: 0px; border-left: 1px solid rgba(127, 127, 127, 0.2); white-space: pre-wrap; font-family: ColfaxAI, Arial; font-size: 15px; line-height: 23px;'>You are a home assistant. You can choose one of these devices, actions and values - {&#x27;devices&#x27;: {&#x27;none&#x27;: {&#x27;actions&#x27;: &#x27;none&#x27;}, &#x27;lights&#x27;: {&#x27;actions&#x27;: {&#x27;turn_on&#x27;: {}, &#x27;turn_off&#x27;: {}, &#x27;dim&#x27;: {&#x27;range&#x27;: {&#x27;min&#x27;: 0, &#x27;max&#x27;: 100, &#x27;unit&#x27;: &#x27;%&#x27;}}, &#x27;change_color&#x27;: {&#x27;colors&#x27;: [&#x27;red&#x27;, &#x27;green&#x27;, &#x27;blue&#x27;, &#x27;white&#x27;, &#x27;yellow&#x27;, &#x27;purple&#x27;]}}}, &#x27;thermostat&#x27;: {&#x27;actions&#x27;: {&#x27;set_temperature&#x27;: {&#x27;range&#x27;: {&#x27;min&#x27;: 60, &#x27;max&#x27;: 80, &#x27;unit&#x27;: &#x27;F&#x27;}}, &#x27;turn_off&#x27;: {}}}, &#x27;television&#x27;: {&#x27;actions&#x27;: {&#x27;turn_on&#x27;: {}, &#x27;turn_off&#x27;: {}, &#x27;change_channel&#x27;: {&#x27;range&#x27;: {&#x27;min&#x27;: 1, &#x27;max&#x27;: 500}}, &#x27;adjust_volume&#x27;: {&#x27;range&#x27;: {&#x27;min&#x27;: 0, &#x27;max&#x27;: 100, &#x27;unit&#x27;: &#x27;%&#x27;}}, &#x27;mute&#x27;: {}}}, &#x27;smart_speaker&#x27;: {&#x27;actions&#x27;: {&#x27;play_music&#x27;: {}, &#x27;set_volume&#x27;: {&#x27;range&#x27;: {&#x27;min&#x27;: 0, &#x27;max&#x27;: 100, &#x27;unit&#x27;: &#x27;%&#x27;}}, &#x27;set_alarm&#x27;: {&#x27;time_format&#x27;: &#x27;HH:MM&#x27;}}}}}. You can answer with device none if the question is not pertainant. The input from the user is -You are cool. device<span style='background-color: rgba(0.0, 165.0, 0, 0.15); border-radius: 3px;' title='1.0'>:&quot;</span><span style='background-color: rgba(0.0, 165.0, 0, 0.15); border-radius: 3px;' title='1.0'>none</span>&quot;,action<span style='background-color: rgba(0.0, 165.0, 0, 0.15); border-radius: 3px;' title='1.0'>:&quot;</span><span style='background-color: rgba(0.0, 165.0, 0, 0.15); border-radius: 3px;' title='1.0'>none</span>&quot;,value<span style='background-color: rgba(0.0, 165.0, 0, 0.15); border-radius: 3px;' title='1.0'>:&quot;</span><span style='background-color: rgba(0.0, 165.0, 0, 0.15); border-radius: 3px;' title='1.0'>none</span>&quot;</pre>"
      ],
      "text/plain": [
       "<IPython.core.display.HTML object>"
      ]
     },
     "metadata": {},
     "output_type": "display_data"
    },
    {
     "data": {
      "text/plain": [
       "('none', 'none', 'none')"
      ]
     },
     "execution_count": 83,
     "metadata": {},
     "output_type": "execute_result"
    }
   ],
   "source": [
    "get_command(model,\"You are cool\")"
   ]
  },
  {
   "cell_type": "code",
   "execution_count": 70,
   "metadata": {},
   "outputs": [
    {
     "data": {
      "text/html": [
       "<pre style='margin: 0px; padding: 0px; vertical-align: middle; padding-left: 8px; margin-left: -8px; border-radius: 0px; border-left: 1px solid rgba(127, 127, 127, 0.2); white-space: pre-wrap; font-family: ColfaxAI, Arial; font-size: 15px; line-height: 23px;'>You are a home assistant. You can choose one of these devices, actions and values - {&#x27;devices&#x27;: {&#x27;none&#x27;: {&#x27;actions&#x27;: &#x27;none&#x27;}, &#x27;lights&#x27;: {&#x27;actions&#x27;: {&#x27;turn_on&#x27;: {}, &#x27;turn_off&#x27;: {}, &#x27;dim&#x27;: {&#x27;range&#x27;: {&#x27;min&#x27;: 0, &#x27;max&#x27;: 100, &#x27;unit&#x27;: &#x27;%&#x27;}}, &#x27;change_color&#x27;: {&#x27;colors&#x27;: [&#x27;red&#x27;, &#x27;green&#x27;, &#x27;blue&#x27;, &#x27;white&#x27;, &#x27;yellow&#x27;, &#x27;purple&#x27;]}}}, &#x27;thermostat&#x27;: {&#x27;actions&#x27;: {&#x27;set_temperature&#x27;: {&#x27;range&#x27;: {&#x27;min&#x27;: 60, &#x27;max&#x27;: 80, &#x27;unit&#x27;: &#x27;F&#x27;}}, &#x27;turn_off&#x27;: {}}}, &#x27;television&#x27;: {&#x27;actions&#x27;: {&#x27;turn_on&#x27;: {}, &#x27;turn_off&#x27;: {}, &#x27;change_channel&#x27;: {&#x27;range&#x27;: {&#x27;min&#x27;: 1, &#x27;max&#x27;: 500}}, &#x27;adjust_volume&#x27;: {&#x27;range&#x27;: {&#x27;min&#x27;: 0, &#x27;max&#x27;: 100, &#x27;unit&#x27;: &#x27;%&#x27;}}, &#x27;mute&#x27;: {}}}, &#x27;smart_speaker&#x27;: {&#x27;actions&#x27;: {&#x27;play_music&#x27;: {}, &#x27;set_volume&#x27;: {&#x27;range&#x27;: {&#x27;min&#x27;: 0, &#x27;max&#x27;: 100, &#x27;unit&#x27;: &#x27;%&#x27;}}, &#x27;set_alarm&#x27;: {&#x27;time_format&#x27;: &#x27;HH:MM&#x27;}}}}}. You can answer with device none if the question is not pertainant. The input from the user is -testing is awesome. device<span style='background-color: rgba(0.0, 165.0, 0, 0.15); border-radius: 3px;' title='1.0'>:&quot;</span><span style='background-color: rgba(0.0, 165.0, 0, 0.15); border-radius: 3px;' title='1.0'>lights</span>&quot;,action<span style='background-color: rgba(0.0, 165.0, 0, 0.15); border-radius: 3px;' title='1.0'>:&quot;</span><span style='background-color: rgba(0.0, 165.0, 0, 0.15); border-radius: 3px;' title='1.0'>turn</span><span style='background-color: rgba(0.0, 165.0, 0, 0.15); border-radius: 3px;' title='1.0'>_</span><span style='background-color: rgba(0.0, 165.0, 0, 0.15); border-radius: 3px;' title='1.0'>on</span>&quot;,value<span style='background-color: rgba(0.0, 165.0, 0, 0.15); border-radius: 3px;' title='1.0'>:&quot;</span><span style='background-color: rgba(0.0, 165.0, 0, 0.15); border-radius: 3px;' title='1.0'>all</span>&quot;</pre>"
      ],
      "text/plain": [
       "<IPython.core.display.HTML object>"
      ]
     },
     "metadata": {},
     "output_type": "display_data"
    },
    {
     "data": {
      "text/plain": [
       "('lights', 'turn_on', 'all')"
      ]
     },
     "execution_count": 70,
     "metadata": {},
     "output_type": "execute_result"
    }
   ],
   "source": [
    "get_command(model,\"testing is awesome\")"
   ]
  },
  {
   "cell_type": "code",
   "execution_count": 84,
   "metadata": {},
   "outputs": [
    {
     "data": {
      "text/html": [
       "<pre style='margin: 0px; padding: 0px; vertical-align: middle; padding-left: 8px; margin-left: -8px; border-radius: 0px; border-left: 1px solid rgba(127, 127, 127, 0.2); white-space: pre-wrap; font-family: ColfaxAI, Arial; font-size: 15px; line-height: 23px;'>You are a home assistant. You can choose one of these devices, actions and values - {&#x27;devices&#x27;: {&#x27;none&#x27;: {&#x27;actions&#x27;: &#x27;none&#x27;}, &#x27;lights&#x27;: {&#x27;actions&#x27;: {&#x27;turn_on&#x27;: {}, &#x27;turn_off&#x27;: {}, &#x27;dim&#x27;: {&#x27;range&#x27;: {&#x27;min&#x27;: 0, &#x27;max&#x27;: 100, &#x27;unit&#x27;: &#x27;%&#x27;}}, &#x27;change_color&#x27;: {&#x27;colors&#x27;: [&#x27;red&#x27;, &#x27;green&#x27;, &#x27;blue&#x27;, &#x27;white&#x27;, &#x27;yellow&#x27;, &#x27;purple&#x27;]}}}, &#x27;thermostat&#x27;: {&#x27;actions&#x27;: {&#x27;set_temperature&#x27;: {&#x27;range&#x27;: {&#x27;min&#x27;: 60, &#x27;max&#x27;: 80, &#x27;unit&#x27;: &#x27;F&#x27;}}, &#x27;turn_off&#x27;: {}}}, &#x27;television&#x27;: {&#x27;actions&#x27;: {&#x27;turn_on&#x27;: {}, &#x27;turn_off&#x27;: {}, &#x27;change_channel&#x27;: {&#x27;range&#x27;: {&#x27;min&#x27;: 1, &#x27;max&#x27;: 500}}, &#x27;adjust_volume&#x27;: {&#x27;range&#x27;: {&#x27;min&#x27;: 0, &#x27;max&#x27;: 100, &#x27;unit&#x27;: &#x27;%&#x27;}}, &#x27;mute&#x27;: {}}}, &#x27;smart_speaker&#x27;: {&#x27;actions&#x27;: {&#x27;play_music&#x27;: {}, &#x27;set_volume&#x27;: {&#x27;range&#x27;: {&#x27;min&#x27;: 0, &#x27;max&#x27;: 100, &#x27;unit&#x27;: &#x27;%&#x27;}}, &#x27;set_alarm&#x27;: {&#x27;time_format&#x27;: &#x27;HH:MM&#x27;}}}}}. You can answer with device none if the question is not pertainant. The input from the user is -I am too hot. device<span style='background-color: rgba(0.0, 165.0, 0, 0.15); border-radius: 3px;' title='1.0'>:&quot;</span><span style='background-color: rgba(0.0, 165.0, 0, 0.15); border-radius: 3px;' title='1.0'>ther</span><span style='background-color: rgba(0.0, 165.0, 0, 0.15); border-radius: 3px;' title='1.0'>most</span><span style='background-color: rgba(0.0, 165.0, 0, 0.15); border-radius: 3px;' title='1.0'>at</span>&quot;,action<span style='background-color: rgba(0.0, 165.0, 0, 0.15); border-radius: 3px;' title='1.0'>:&quot;</span><span style='background-color: rgba(0.0, 165.0, 0, 0.15); border-radius: 3px;' title='1.0'>set</span><span style='background-color: rgba(0.0, 165.0, 0, 0.15); border-radius: 3px;' title='1.0'>_</span><span style='background-color: rgba(0.0, 165.0, 0, 0.15); border-radius: 3px;' title='1.0'>t</span><span style='background-color: rgba(0.0, 165.0, 0, 0.15); border-radius: 3px;' title='1.0'>emperature</span>&quot;,value<span style='background-color: rgba(0.0, 165.0, 0, 0.15); border-radius: 3px;' title='1.0'>:&quot;</span><span style='background-color: rgba(0.0, 165.0, 0, 0.15); border-radius: 3px;' title='1.0'>7</span><span style='background-color: rgba(0.0, 165.0, 0, 0.15); border-radius: 3px;' title='1.0'>0</span><span style='background-color: rgba(0.0, 165.0, 0, 0.15); border-radius: 3px;' title='1.0'>F</span>&quot;</pre>"
      ],
      "text/plain": [
       "<IPython.core.display.HTML object>"
      ]
     },
     "metadata": {},
     "output_type": "display_data"
    },
    {
     "data": {
      "text/plain": [
       "('thermostat', 'set_temperature', '70F')"
      ]
     },
     "execution_count": 84,
     "metadata": {},
     "output_type": "execute_result"
    }
   ],
   "source": [
    "get_command(model,\"I am too hot\")"
   ]
  },
  {
   "cell_type": "code",
   "execution_count": 85,
   "metadata": {},
   "outputs": [
    {
     "data": {
      "text/html": [
       "<pre style='margin: 0px; padding: 0px; vertical-align: middle; padding-left: 8px; margin-left: -8px; border-radius: 0px; border-left: 1px solid rgba(127, 127, 127, 0.2); white-space: pre-wrap; font-family: ColfaxAI, Arial; font-size: 15px; line-height: 23px;'>You are a home assistant. You can choose one of these devices, actions and values - {&#x27;devices&#x27;: {&#x27;none&#x27;: {&#x27;actions&#x27;: &#x27;none&#x27;}, &#x27;lights&#x27;: {&#x27;actions&#x27;: {&#x27;turn_on&#x27;: {}, &#x27;turn_off&#x27;: {}, &#x27;dim&#x27;: {&#x27;range&#x27;: {&#x27;min&#x27;: 0, &#x27;max&#x27;: 100, &#x27;unit&#x27;: &#x27;%&#x27;}}, &#x27;change_color&#x27;: {&#x27;colors&#x27;: [&#x27;red&#x27;, &#x27;green&#x27;, &#x27;blue&#x27;, &#x27;white&#x27;, &#x27;yellow&#x27;, &#x27;purple&#x27;]}}}, &#x27;thermostat&#x27;: {&#x27;actions&#x27;: {&#x27;set_temperature&#x27;: {&#x27;range&#x27;: {&#x27;min&#x27;: 60, &#x27;max&#x27;: 80, &#x27;unit&#x27;: &#x27;F&#x27;}}, &#x27;turn_off&#x27;: {}}}, &#x27;television&#x27;: {&#x27;actions&#x27;: {&#x27;turn_on&#x27;: {}, &#x27;turn_off&#x27;: {}, &#x27;change_channel&#x27;: {&#x27;range&#x27;: {&#x27;min&#x27;: 1, &#x27;max&#x27;: 500}}, &#x27;adjust_volume&#x27;: {&#x27;range&#x27;: {&#x27;min&#x27;: 0, &#x27;max&#x27;: 100, &#x27;unit&#x27;: &#x27;%&#x27;}}, &#x27;mute&#x27;: {}}}, &#x27;smart_speaker&#x27;: {&#x27;actions&#x27;: {&#x27;play_music&#x27;: {}, &#x27;set_volume&#x27;: {&#x27;range&#x27;: {&#x27;min&#x27;: 0, &#x27;max&#x27;: 100, &#x27;unit&#x27;: &#x27;%&#x27;}}, &#x27;set_alarm&#x27;: {&#x27;time_format&#x27;: &#x27;HH:MM&#x27;}}}}}. You can answer with device none if the question is not pertainant. The input from the user is -I am too cold man. device<span style='background-color: rgba(0.0, 165.0, 0, 0.15); border-radius: 3px;' title='1.0'>:&quot;</span><span style='background-color: rgba(0.0, 165.0, 0, 0.15); border-radius: 3px;' title='1.0'>ther</span><span style='background-color: rgba(0.0, 165.0, 0, 0.15); border-radius: 3px;' title='1.0'>most</span><span style='background-color: rgba(0.0, 165.0, 0, 0.15); border-radius: 3px;' title='1.0'>at</span>&quot;,action<span style='background-color: rgba(0.0, 165.0, 0, 0.15); border-radius: 3px;' title='1.0'>:&quot;</span><span style='background-color: rgba(0.0, 165.0, 0, 0.15); border-radius: 3px;' title='1.0'>set</span><span style='background-color: rgba(0.0, 165.0, 0, 0.15); border-radius: 3px;' title='1.0'>_</span><span style='background-color: rgba(0.0, 165.0, 0, 0.15); border-radius: 3px;' title='1.0'>t</span><span style='background-color: rgba(0.0, 165.0, 0, 0.15); border-radius: 3px;' title='1.0'>emperature</span>&quot;,value<span style='background-color: rgba(0.0, 165.0, 0, 0.15); border-radius: 3px;' title='1.0'>:&quot;</span><span style='background-color: rgba(0.0, 165.0, 0, 0.15); border-radius: 3px;' title='1.0'>8</span><span style='background-color: rgba(0.0, 165.0, 0, 0.15); border-radius: 3px;' title='1.0'>0</span>&quot;</pre>"
      ],
      "text/plain": [
       "<IPython.core.display.HTML object>"
      ]
     },
     "metadata": {},
     "output_type": "display_data"
    },
    {
     "data": {
      "text/plain": [
       "('thermostat', 'set_temperature', '80')"
      ]
     },
     "execution_count": 85,
     "metadata": {},
     "output_type": "execute_result"
    }
   ],
   "source": [
    "get_command(model,\"I am too cold man\")"
   ]
  },
  {
   "cell_type": "code",
   "execution_count": 64,
   "metadata": {},
   "outputs": [
    {
     "data": {
      "text/html": [
       "<pre style='margin: 0px; padding: 0px; vertical-align: middle; padding-left: 8px; margin-left: -8px; border-radius: 0px; border-left: 1px solid rgba(127, 127, 127, 0.2); white-space: pre-wrap; font-family: ColfaxAI, Arial; font-size: 15px; line-height: 23px;'>You are a home assistant. You can choose one of these devices and actions - {&#x27;devices&#x27;: {&#x27;none&#x27;: {&#x27;actions&#x27;: &#x27;none&#x27;}, &#x27;lights&#x27;: {&#x27;actions&#x27;: {&#x27;turn_on&#x27;: {}, &#x27;turn_off&#x27;: {}, &#x27;dim&#x27;: {&#x27;range&#x27;: {&#x27;min&#x27;: 0, &#x27;max&#x27;: 100, &#x27;unit&#x27;: &#x27;%&#x27;}}, &#x27;change_color&#x27;: {&#x27;colors&#x27;: [&#x27;red&#x27;, &#x27;green&#x27;, &#x27;blue&#x27;, &#x27;white&#x27;, &#x27;yellow&#x27;, &#x27;purple&#x27;]}}}, &#x27;thermostat&#x27;: {&#x27;actions&#x27;: {&#x27;set_temperature&#x27;: {&#x27;range&#x27;: {&#x27;min&#x27;: 60, &#x27;max&#x27;: 80, &#x27;unit&#x27;: &#x27;F&#x27;}}, &#x27;turn_off&#x27;: {}}}, &#x27;television&#x27;: {&#x27;actions&#x27;: {&#x27;turn_on&#x27;: {}, &#x27;turn_off&#x27;: {}, &#x27;change_channel&#x27;: {&#x27;range&#x27;: {&#x27;min&#x27;: 1, &#x27;max&#x27;: 500}}, &#x27;adjust_volume&#x27;: {&#x27;range&#x27;: {&#x27;min&#x27;: 0, &#x27;max&#x27;: 100, &#x27;unit&#x27;: &#x27;%&#x27;}}, &#x27;mute&#x27;: {}}}, &#x27;smart_speaker&#x27;: {&#x27;actions&#x27;: {&#x27;play_music&#x27;: {}, &#x27;set_volume&#x27;: {&#x27;range&#x27;: {&#x27;min&#x27;: 0, &#x27;max&#x27;: 100, &#x27;unit&#x27;: &#x27;%&#x27;}}, &#x27;set_alarm&#x27;: {&#x27;time_format&#x27;: &#x27;HH:MM&#x27;}}}}}. You can answer with device none if the question is not pertainant. The input from the user is -what the hell are you doing . device<span style='background-color: rgba(0.0, 165.0, 0, 0.15); border-radius: 3px;' title='1.0'>:&quot;</span><span style='background-color: rgba(0.0, 165.0, 0, 0.15); border-radius: 3px;' title='1.0'>none</span>&quot;,action<span style='background-color: rgba(0.0, 165.0, 0, 0.15); border-radius: 3px;' title='1.0'>:&quot;</span><span style='background-color: rgba(0.0, 165.0, 0, 0.15); border-radius: 3px;' title='1.0'>none</span>&quot;,value<span style='background-color: rgba(0.0, 165.0, 0, 0.15); border-radius: 3px;' title='1.0'>:&quot;</span><span style='background-color: rgba(0.0, 165.0, 0, 0.15); border-radius: 3px;' title='1.0'>none</span>&quot;</pre>"
      ],
      "text/plain": [
       "<IPython.core.display.HTML object>"
      ]
     },
     "metadata": {},
     "output_type": "display_data"
    },
    {
     "data": {
      "text/plain": [
       "('none', 'none', 'none')"
      ]
     },
     "execution_count": 64,
     "metadata": {},
     "output_type": "execute_result"
    }
   ],
   "source": [
    "get_command(model,\"what the hell are you doing \")"
   ]
  }
 ],
 "metadata": {
  "kernelspec": {
   "display_name": "ner",
   "language": "python",
   "name": "python3"
  },
  "language_info": {
   "codemirror_mode": {
    "name": "ipython",
    "version": 3
   },
   "file_extension": ".py",
   "mimetype": "text/x-python",
   "name": "python",
   "nbconvert_exporter": "python",
   "pygments_lexer": "ipython3",
   "version": "3.11.5"
  }
 },
 "nbformat": 4,
 "nbformat_minor": 2
}
